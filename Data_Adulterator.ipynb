{
 "metadata": {
  "language_info": {
   "codemirror_mode": {
    "name": "ipython",
    "version": 3
   },
   "file_extension": ".py",
   "mimetype": "text/x-python",
   "name": "python",
   "nbconvert_exporter": "python",
   "pygments_lexer": "ipython3",
   "version": "3.7.6-final"
  },
  "orig_nbformat": 2,
  "kernelspec": {
   "name": "python3",
   "display_name": "Python 3",
   "language": "python"
  }
 },
 "nbformat": 4,
 "nbformat_minor": 2,
 "cells": [
  {
   "cell_type": "code",
   "execution_count": 155,
   "metadata": {},
   "outputs": [],
   "source": [
    "import numpy as np \n",
    "import pandas as pd "
   ]
  },
  {
   "cell_type": "code",
   "execution_count": 167,
   "metadata": {},
   "outputs": [],
   "source": [
    "Clean = pd.read_csv('refering_example/Hackathon_Working_Data.csv')"
   ]
  },
  {
   "cell_type": "code",
   "execution_count": 169,
   "metadata": {},
   "outputs": [],
   "source": [
    "clean2 = Clean"
   ]
  },
  {
   "cell_type": "code",
   "execution_count": null,
   "metadata": {},
   "outputs": [],
   "source": [
    "cols = ['GRP','SGRP','SSGRP','CMP','MBRD','BRD']"
   ]
  },
  {
   "cell_type": "code",
   "execution_count": 8,
   "metadata": {},
   "outputs": [],
   "source": [
    "tb_edited= Clean[cols]"
   ]
  },
  {
   "cell_type": "code",
   "execution_count": 9,
   "metadata": {},
   "outputs": [
    {
     "output_type": "execute_result",
     "data": {
      "text/plain": [
       "                              GRP                     SGRP  \\\n",
       "0            BUTTER MARGR  (4/94)                   BUTTER   \n",
       "1         CONFECTIONERY - ECLAIRS  CONFECTIONERY - ECLAIRS   \n",
       "2                       CHOCOLATE         CHOCOLATE PANNED   \n",
       "3                    PACKAGED TEA               MAIN PACKS   \n",
       "4                ALL IODISED SALT            POWDERED SALT   \n",
       "...                           ...                      ...   \n",
       "26980  BISCUITS - CORE & NON CORE         NON-SALT CRACKER   \n",
       "26981  BISCUITS - CORE & NON CORE                    MARIE   \n",
       "26982  BISCUITS - CORE & NON CORE                  GLUCOSE   \n",
       "26983            CLEANERS - GLASS                  LIQUIDS   \n",
       "26984  BISCUITS - CORE & NON CORE            SWEET/COOKIES   \n",
       "\n",
       "                         SSGRP                     CMP              MBRD  \\\n",
       "0                       SALTED               G C M M F              AMUL   \n",
       "1      CONFECTIONERY - ECLAIRS             PARLE PRODS            MELODY   \n",
       "2             CHOCOLATE PANNED  MONDELEZ INTERNATIONAL     CADBURY SHOTS   \n",
       "3                   MAIN PACKS      GUJ TEA PROCESSORS        WAGH BAKRI   \n",
       "4                POWDERED SALT               TATA CHEM              TATA   \n",
       "...                        ...                     ...               ...   \n",
       "26980         NON-SALT CRACKER             PARLE PRODS  PARLE KRACK JACK   \n",
       "26981                    MARIE             PARLE PRODS       PARLE MARIE   \n",
       "26982                  GLUCOSE             PARLE PRODS           PARLE-G   \n",
       "26983                  LIQUIDS       RECKITT BENCKISER             COLIN   \n",
       "26984            SWEET/COOKIES                SAJ INDS         BISK FARM   \n",
       "\n",
       "                         BRD  \n",
       "0                       AMUL  \n",
       "1           MELODY CHOCOLATY  \n",
       "2              CADBURY SHOTS  \n",
       "3         WAGH BAKRI INSTANT  \n",
       "4                  TATA SALT  \n",
       "...                      ...  \n",
       "26980       PARLE KRACK JACK  \n",
       "26981            PARLE MARIE  \n",
       "26982                PARLE-G  \n",
       "26983                  COLIN  \n",
       "26984  BISK FARM JUST GINGER  \n",
       "\n",
       "[26985 rows x 6 columns]"
      ],
      "text/html": "<div>\n<style scoped>\n    .dataframe tbody tr th:only-of-type {\n        vertical-align: middle;\n    }\n\n    .dataframe tbody tr th {\n        vertical-align: top;\n    }\n\n    .dataframe thead th {\n        text-align: right;\n    }\n</style>\n<table border=\"1\" class=\"dataframe\">\n  <thead>\n    <tr style=\"text-align: right;\">\n      <th></th>\n      <th>GRP</th>\n      <th>SGRP</th>\n      <th>SSGRP</th>\n      <th>CMP</th>\n      <th>MBRD</th>\n      <th>BRD</th>\n    </tr>\n  </thead>\n  <tbody>\n    <tr>\n      <th>0</th>\n      <td>BUTTER MARGR  (4/94)</td>\n      <td>BUTTER</td>\n      <td>SALTED</td>\n      <td>G C M M F</td>\n      <td>AMUL</td>\n      <td>AMUL</td>\n    </tr>\n    <tr>\n      <th>1</th>\n      <td>CONFECTIONERY - ECLAIRS</td>\n      <td>CONFECTIONERY - ECLAIRS</td>\n      <td>CONFECTIONERY - ECLAIRS</td>\n      <td>PARLE PRODS</td>\n      <td>MELODY</td>\n      <td>MELODY CHOCOLATY</td>\n    </tr>\n    <tr>\n      <th>2</th>\n      <td>CHOCOLATE</td>\n      <td>CHOCOLATE PANNED</td>\n      <td>CHOCOLATE PANNED</td>\n      <td>MONDELEZ INTERNATIONAL</td>\n      <td>CADBURY SHOTS</td>\n      <td>CADBURY SHOTS</td>\n    </tr>\n    <tr>\n      <th>3</th>\n      <td>PACKAGED TEA</td>\n      <td>MAIN PACKS</td>\n      <td>MAIN PACKS</td>\n      <td>GUJ TEA PROCESSORS</td>\n      <td>WAGH BAKRI</td>\n      <td>WAGH BAKRI INSTANT</td>\n    </tr>\n    <tr>\n      <th>4</th>\n      <td>ALL IODISED SALT</td>\n      <td>POWDERED SALT</td>\n      <td>POWDERED SALT</td>\n      <td>TATA CHEM</td>\n      <td>TATA</td>\n      <td>TATA SALT</td>\n    </tr>\n    <tr>\n      <th>...</th>\n      <td>...</td>\n      <td>...</td>\n      <td>...</td>\n      <td>...</td>\n      <td>...</td>\n      <td>...</td>\n    </tr>\n    <tr>\n      <th>26980</th>\n      <td>BISCUITS - CORE &amp; NON CORE</td>\n      <td>NON-SALT CRACKER</td>\n      <td>NON-SALT CRACKER</td>\n      <td>PARLE PRODS</td>\n      <td>PARLE KRACK JACK</td>\n      <td>PARLE KRACK JACK</td>\n    </tr>\n    <tr>\n      <th>26981</th>\n      <td>BISCUITS - CORE &amp; NON CORE</td>\n      <td>MARIE</td>\n      <td>MARIE</td>\n      <td>PARLE PRODS</td>\n      <td>PARLE MARIE</td>\n      <td>PARLE MARIE</td>\n    </tr>\n    <tr>\n      <th>26982</th>\n      <td>BISCUITS - CORE &amp; NON CORE</td>\n      <td>GLUCOSE</td>\n      <td>GLUCOSE</td>\n      <td>PARLE PRODS</td>\n      <td>PARLE-G</td>\n      <td>PARLE-G</td>\n    </tr>\n    <tr>\n      <th>26983</th>\n      <td>CLEANERS - GLASS</td>\n      <td>LIQUIDS</td>\n      <td>LIQUIDS</td>\n      <td>RECKITT BENCKISER</td>\n      <td>COLIN</td>\n      <td>COLIN</td>\n    </tr>\n    <tr>\n      <th>26984</th>\n      <td>BISCUITS - CORE &amp; NON CORE</td>\n      <td>SWEET/COOKIES</td>\n      <td>SWEET/COOKIES</td>\n      <td>SAJ INDS</td>\n      <td>BISK FARM</td>\n      <td>BISK FARM JUST GINGER</td>\n    </tr>\n  </tbody>\n</table>\n<p>26985 rows × 6 columns</p>\n</div>"
     },
     "metadata": {},
     "execution_count": 9
    }
   ],
   "source": [
    "tb_edited"
   ]
  },
  {
   "cell_type": "code",
   "execution_count": 11,
   "metadata": {},
   "outputs": [],
   "source": [
    "# No_of_examples = len(tb_edited)"
   ]
  },
  {
   "cell_type": "code",
   "execution_count": 177,
   "metadata": {},
   "outputs": [],
   "source": [
    "def Eraser( df , x ):\n",
    "    \n",
    "    No_of_examples = len(df)\n",
    "    amount_tbe = No_of_examples * 0.01 * (np.log(x**3 + 1) / np.log(np.e**(-1) + 1))\n",
    "    # amount_tbe = np.floor(amount_tbe)\n",
    "    # return amount_tbe\n",
    "    index_del = []\n",
    "    i = 0\n",
    "    while(i < int(amount_tbe)):    \n",
    "        r = np.random.randint(No_of_examples)\n",
    "        if r not in index_del:\n",
    "            index_del.append(r)\n",
    "            i+=1\n",
    "\n",
    "    for example in index_del:\n",
    "        arr = row_wise_irregularity(df)\n",
    "        for field in arr:\n",
    "            df.loc[[example],field] = None\n",
    "    \n",
    "\n",
    "    return df\n"
   ]
  },
  {
   "cell_type": "code",
   "execution_count": 178,
   "metadata": {},
   "outputs": [
    {
     "output_type": "execute_result",
     "data": {
      "text/plain": [
       "      MONTH STORECODE   DAY BILL_ID  BILL_AMT  QTY  VALUE  PRICE  \\\n",
       "0        M1        N1   4.0    T375     225.0  1.0  225.0  225.0   \n",
       "1        M1        N1   4.0    T379      95.0  1.0   95.0   95.0   \n",
       "2        M1        N1   4.0    T381      10.0  1.0   10.0   10.0   \n",
       "3        M1        N1   4.0    T382     108.0  1.0  108.0  108.0   \n",
       "4        M1        N1   4.0    T384      19.0  1.0   19.0   19.0   \n",
       "...     ...       ...   ...     ...       ...  ...    ...    ...   \n",
       "26980    M3       N10  31.0   T5999      10.0  1.0   10.0   10.0   \n",
       "26981    M3       N10  31.0    None      88.0  1.0    NaN   10.0   \n",
       "26982    M3       N10  31.0   T6007      88.0  2.0   20.0   10.0   \n",
       "26983    M3      None   NaN   T6007      88.0  1.0   58.0   58.0   \n",
       "26984    M3       N10  31.0   T6013      15.0  1.0   15.0   15.0   \n",
       "\n",
       "                              GRP                     SGRP  \\\n",
       "0            BUTTER MARGR  (4/94)                   BUTTER   \n",
       "1         CONFECTIONERY - ECLAIRS  CONFECTIONERY - ECLAIRS   \n",
       "2                       CHOCOLATE         CHOCOLATE PANNED   \n",
       "3                            None                     None   \n",
       "4                ALL IODISED SALT            POWDERED SALT   \n",
       "...                           ...                      ...   \n",
       "26980  BISCUITS - CORE & NON CORE         NON-SALT CRACKER   \n",
       "26981  BISCUITS - CORE & NON CORE                    MARIE   \n",
       "26982  BISCUITS - CORE & NON CORE                  GLUCOSE   \n",
       "26983                        None                     None   \n",
       "26984  BISCUITS - CORE & NON CORE            SWEET/COOKIES   \n",
       "\n",
       "                         SSGRP                     CMP              MBRD  \\\n",
       "0                       SALTED               G C M M F              AMUL   \n",
       "1      CONFECTIONERY - ECLAIRS             PARLE PRODS            MELODY   \n",
       "2             CHOCOLATE PANNED  MONDELEZ INTERNATIONAL     CADBURY SHOTS   \n",
       "3                         None                    None              None   \n",
       "4                POWDERED SALT               TATA CHEM              TATA   \n",
       "...                        ...                     ...               ...   \n",
       "26980         NON-SALT CRACKER             PARLE PRODS  PARLE KRACK JACK   \n",
       "26981                    MARIE             PARLE PRODS       PARLE MARIE   \n",
       "26982                  GLUCOSE             PARLE PRODS           PARLE-G   \n",
       "26983                  LIQUIDS       RECKITT BENCKISER              None   \n",
       "26984            SWEET/COOKIES                SAJ INDS         BISK FARM   \n",
       "\n",
       "                         BRD  \n",
       "0                       AMUL  \n",
       "1           MELODY CHOCOLATY  \n",
       "2              CADBURY SHOTS  \n",
       "3                       None  \n",
       "4                  TATA SALT  \n",
       "...                      ...  \n",
       "26980       PARLE KRACK JACK  \n",
       "26981                   None  \n",
       "26982                PARLE-G  \n",
       "26983                   None  \n",
       "26984  BISK FARM JUST GINGER  \n",
       "\n",
       "[26985 rows x 14 columns]"
      ],
      "text/html": "<div>\n<style scoped>\n    .dataframe tbody tr th:only-of-type {\n        vertical-align: middle;\n    }\n\n    .dataframe tbody tr th {\n        vertical-align: top;\n    }\n\n    .dataframe thead th {\n        text-align: right;\n    }\n</style>\n<table border=\"1\" class=\"dataframe\">\n  <thead>\n    <tr style=\"text-align: right;\">\n      <th></th>\n      <th>MONTH</th>\n      <th>STORECODE</th>\n      <th>DAY</th>\n      <th>BILL_ID</th>\n      <th>BILL_AMT</th>\n      <th>QTY</th>\n      <th>VALUE</th>\n      <th>PRICE</th>\n      <th>GRP</th>\n      <th>SGRP</th>\n      <th>SSGRP</th>\n      <th>CMP</th>\n      <th>MBRD</th>\n      <th>BRD</th>\n    </tr>\n  </thead>\n  <tbody>\n    <tr>\n      <th>0</th>\n      <td>M1</td>\n      <td>N1</td>\n      <td>4.0</td>\n      <td>T375</td>\n      <td>225.0</td>\n      <td>1.0</td>\n      <td>225.0</td>\n      <td>225.0</td>\n      <td>BUTTER MARGR  (4/94)</td>\n      <td>BUTTER</td>\n      <td>SALTED</td>\n      <td>G C M M F</td>\n      <td>AMUL</td>\n      <td>AMUL</td>\n    </tr>\n    <tr>\n      <th>1</th>\n      <td>M1</td>\n      <td>N1</td>\n      <td>4.0</td>\n      <td>T379</td>\n      <td>95.0</td>\n      <td>1.0</td>\n      <td>95.0</td>\n      <td>95.0</td>\n      <td>CONFECTIONERY - ECLAIRS</td>\n      <td>CONFECTIONERY - ECLAIRS</td>\n      <td>CONFECTIONERY - ECLAIRS</td>\n      <td>PARLE PRODS</td>\n      <td>MELODY</td>\n      <td>MELODY CHOCOLATY</td>\n    </tr>\n    <tr>\n      <th>2</th>\n      <td>M1</td>\n      <td>N1</td>\n      <td>4.0</td>\n      <td>T381</td>\n      <td>10.0</td>\n      <td>1.0</td>\n      <td>10.0</td>\n      <td>10.0</td>\n      <td>CHOCOLATE</td>\n      <td>CHOCOLATE PANNED</td>\n      <td>CHOCOLATE PANNED</td>\n      <td>MONDELEZ INTERNATIONAL</td>\n      <td>CADBURY SHOTS</td>\n      <td>CADBURY SHOTS</td>\n    </tr>\n    <tr>\n      <th>3</th>\n      <td>M1</td>\n      <td>N1</td>\n      <td>4.0</td>\n      <td>T382</td>\n      <td>108.0</td>\n      <td>1.0</td>\n      <td>108.0</td>\n      <td>108.0</td>\n      <td>None</td>\n      <td>None</td>\n      <td>None</td>\n      <td>None</td>\n      <td>None</td>\n      <td>None</td>\n    </tr>\n    <tr>\n      <th>4</th>\n      <td>M1</td>\n      <td>N1</td>\n      <td>4.0</td>\n      <td>T384</td>\n      <td>19.0</td>\n      <td>1.0</td>\n      <td>19.0</td>\n      <td>19.0</td>\n      <td>ALL IODISED SALT</td>\n      <td>POWDERED SALT</td>\n      <td>POWDERED SALT</td>\n      <td>TATA CHEM</td>\n      <td>TATA</td>\n      <td>TATA SALT</td>\n    </tr>\n    <tr>\n      <th>...</th>\n      <td>...</td>\n      <td>...</td>\n      <td>...</td>\n      <td>...</td>\n      <td>...</td>\n      <td>...</td>\n      <td>...</td>\n      <td>...</td>\n      <td>...</td>\n      <td>...</td>\n      <td>...</td>\n      <td>...</td>\n      <td>...</td>\n      <td>...</td>\n    </tr>\n    <tr>\n      <th>26980</th>\n      <td>M3</td>\n      <td>N10</td>\n      <td>31.0</td>\n      <td>T5999</td>\n      <td>10.0</td>\n      <td>1.0</td>\n      <td>10.0</td>\n      <td>10.0</td>\n      <td>BISCUITS - CORE &amp; NON CORE</td>\n      <td>NON-SALT CRACKER</td>\n      <td>NON-SALT CRACKER</td>\n      <td>PARLE PRODS</td>\n      <td>PARLE KRACK JACK</td>\n      <td>PARLE KRACK JACK</td>\n    </tr>\n    <tr>\n      <th>26981</th>\n      <td>M3</td>\n      <td>N10</td>\n      <td>31.0</td>\n      <td>None</td>\n      <td>88.0</td>\n      <td>1.0</td>\n      <td>NaN</td>\n      <td>10.0</td>\n      <td>BISCUITS - CORE &amp; NON CORE</td>\n      <td>MARIE</td>\n      <td>MARIE</td>\n      <td>PARLE PRODS</td>\n      <td>PARLE MARIE</td>\n      <td>None</td>\n    </tr>\n    <tr>\n      <th>26982</th>\n      <td>M3</td>\n      <td>N10</td>\n      <td>31.0</td>\n      <td>T6007</td>\n      <td>88.0</td>\n      <td>2.0</td>\n      <td>20.0</td>\n      <td>10.0</td>\n      <td>BISCUITS - CORE &amp; NON CORE</td>\n      <td>GLUCOSE</td>\n      <td>GLUCOSE</td>\n      <td>PARLE PRODS</td>\n      <td>PARLE-G</td>\n      <td>PARLE-G</td>\n    </tr>\n    <tr>\n      <th>26983</th>\n      <td>M3</td>\n      <td>None</td>\n      <td>NaN</td>\n      <td>T6007</td>\n      <td>88.0</td>\n      <td>1.0</td>\n      <td>58.0</td>\n      <td>58.0</td>\n      <td>None</td>\n      <td>None</td>\n      <td>LIQUIDS</td>\n      <td>RECKITT BENCKISER</td>\n      <td>None</td>\n      <td>None</td>\n    </tr>\n    <tr>\n      <th>26984</th>\n      <td>M3</td>\n      <td>N10</td>\n      <td>31.0</td>\n      <td>T6013</td>\n      <td>15.0</td>\n      <td>1.0</td>\n      <td>15.0</td>\n      <td>15.0</td>\n      <td>BISCUITS - CORE &amp; NON CORE</td>\n      <td>SWEET/COOKIES</td>\n      <td>SWEET/COOKIES</td>\n      <td>SAJ INDS</td>\n      <td>BISK FARM</td>\n      <td>BISK FARM JUST GINGER</td>\n    </tr>\n  </tbody>\n</table>\n<p>26985 rows × 14 columns</p>\n</div>"
     },
     "metadata": {},
     "execution_count": 178
    }
   ],
   "source": [
    "Eraser(clean2, 100)"
   ]
  },
  {
   "cell_type": "code",
   "execution_count": 103,
   "metadata": {},
   "outputs": [
    {
     "output_type": "execute_result",
     "data": {
      "text/plain": [
       "Index(['MONTH', 'STORECODE', 'DAY', 'BILL_ID', 'BILL_AMT', 'QTY', 'VALUE',\n",
       "       'PRICE', 'GRP', 'SGRP', 'SSGRP', 'CMP', 'MBRD', 'BRD'],\n",
       "      dtype='object')"
      ]
     },
     "metadata": {},
     "execution_count": 103
    }
   ],
   "source": [
    "Clean.columns"
   ]
  },
  {
   "cell_type": "code",
   "execution_count": 95,
   "metadata": {},
   "outputs": [
    {
     "output_type": "execute_result",
     "data": {
      "text/plain": [
       "11900"
      ]
     },
     "metadata": {},
     "execution_count": 95
    }
   ],
   "source": [
    "len(b[0])"
   ]
  },
  {
   "cell_type": "code",
   "execution_count": 100,
   "metadata": {},
   "outputs": [
    {
     "output_type": "execute_result",
     "data": {
      "text/plain": [
       "0.509809303272613"
      ]
     },
     "metadata": {},
     "execution_count": 100
    }
   ],
   "source": [
    "np.random.rand()"
   ]
  },
  {
   "cell_type": "code",
   "execution_count": 129,
   "metadata": {},
   "outputs": [],
   "source": [
    "def row_wise_irregularity(df):\n",
    "    arr = np.random.choice(df.columns , np.random.randint(len(df.columns)) + 1, replace = True)\n",
    "    return arr"
   ]
  },
  {
   "cell_type": "code",
   "execution_count": 127,
   "metadata": {},
   "outputs": [
    {
     "output_type": "execute_result",
     "data": {
      "text/plain": [
       "array(['STORECODE', 'DAY', 'VALUE', 'VALUE', 'PRICE', 'DAY', 'SSGRP',\n",
       "       'SGRP', 'SSGRP', 'SSGRP'], dtype=object)"
      ]
     },
     "metadata": {},
     "execution_count": 127
    }
   ],
   "source": [
    "np.random.choice(Clean.columns , np.random.randint(len(Clean.columns)) + 1, replace = True)"
   ]
  },
  {
   "cell_type": "code",
   "execution_count": 131,
   "metadata": {},
   "outputs": [
    {
     "output_type": "execute_result",
     "data": {
      "text/plain": [
       "array(['PRICE', 'GRP', 'GRP', 'VALUE', 'MONTH', 'CMP', 'QTY', 'DAY',\n",
       "       'BILL_ID', 'BILL_ID', 'BRD', 'BILL_ID', 'PRICE'], dtype=object)"
      ]
     },
     "metadata": {},
     "execution_count": 131
    }
   ],
   "source": [
    "row_wise_irregularity(Clean)"
   ]
  },
  {
   "cell_type": "code",
   "execution_count": 147,
   "metadata": {},
   "outputs": [],
   "source": [
    "# arr = row_wise_irregularity(Clean)\n",
    "\n",
    "# for field in arr:\n",
    "#     clean2.loc[[3],field] = \n",
    "#     # print(field) "
   ]
  },
  {
   "cell_type": "code",
   "execution_count": 172,
   "metadata": {},
   "outputs": [
    {
     "output_type": "execute_result",
     "data": {
      "text/plain": [
       "      MONTH STORECODE  DAY BILL_ID  BILL_AMT  QTY  VALUE  PRICE  \\\n",
       "0        M1        N1    4    T375     225.0  1.0  225.0  225.0   \n",
       "1        M1        N1    4    T379      95.0  1.0   95.0   95.0   \n",
       "2        M1        N1    4    T381      10.0  1.0   10.0   10.0   \n",
       "3        M1        N1    4    T382     108.0  1.0  108.0  108.0   \n",
       "4        M1        N1    4    T384      19.0  1.0   19.0   19.0   \n",
       "...     ...       ...  ...     ...       ...  ...    ...    ...   \n",
       "26980    M3       N10   31   T5999      10.0  1.0   10.0   10.0   \n",
       "26981    M3       N10   31   T6007      88.0  1.0   10.0   10.0   \n",
       "26982    M3       N10   31   T6007      88.0  2.0   20.0   10.0   \n",
       "26983    M3       N10   31   T6007      88.0  1.0   58.0   58.0   \n",
       "26984    M3       N10   31   T6013      15.0  1.0   15.0   15.0   \n",
       "\n",
       "                              GRP                     SGRP  \\\n",
       "0            BUTTER MARGR  (4/94)                   BUTTER   \n",
       "1         CONFECTIONERY - ECLAIRS  CONFECTIONERY - ECLAIRS   \n",
       "2                       CHOCOLATE         CHOCOLATE PANNED   \n",
       "3                    PACKAGED TEA               MAIN PACKS   \n",
       "4                ALL IODISED SALT            POWDERED SALT   \n",
       "...                           ...                      ...   \n",
       "26980  BISCUITS - CORE & NON CORE         NON-SALT CRACKER   \n",
       "26981  BISCUITS - CORE & NON CORE                    MARIE   \n",
       "26982  BISCUITS - CORE & NON CORE                  GLUCOSE   \n",
       "26983            CLEANERS - GLASS                  LIQUIDS   \n",
       "26984  BISCUITS - CORE & NON CORE            SWEET/COOKIES   \n",
       "\n",
       "                         SSGRP                     CMP              MBRD  \\\n",
       "0                       SALTED               G C M M F              AMUL   \n",
       "1      CONFECTIONERY - ECLAIRS             PARLE PRODS            MELODY   \n",
       "2             CHOCOLATE PANNED  MONDELEZ INTERNATIONAL     CADBURY SHOTS   \n",
       "3                   MAIN PACKS      GUJ TEA PROCESSORS        WAGH BAKRI   \n",
       "4                POWDERED SALT               TATA CHEM              TATA   \n",
       "...                        ...                     ...               ...   \n",
       "26980         NON-SALT CRACKER             PARLE PRODS  PARLE KRACK JACK   \n",
       "26981                    MARIE             PARLE PRODS       PARLE MARIE   \n",
       "26982                  GLUCOSE             PARLE PRODS           PARLE-G   \n",
       "26983                  LIQUIDS       RECKITT BENCKISER             COLIN   \n",
       "26984            SWEET/COOKIES                SAJ INDS         BISK FARM   \n",
       "\n",
       "                         BRD  \n",
       "0                       AMUL  \n",
       "1           MELODY CHOCOLATY  \n",
       "2              CADBURY SHOTS  \n",
       "3         WAGH BAKRI INSTANT  \n",
       "4                  TATA SALT  \n",
       "...                      ...  \n",
       "26980       PARLE KRACK JACK  \n",
       "26981            PARLE MARIE  \n",
       "26982                PARLE-G  \n",
       "26983                  COLIN  \n",
       "26984  BISK FARM JUST GINGER  \n",
       "\n",
       "[26985 rows x 14 columns]"
      ],
      "text/html": "<div>\n<style scoped>\n    .dataframe tbody tr th:only-of-type {\n        vertical-align: middle;\n    }\n\n    .dataframe tbody tr th {\n        vertical-align: top;\n    }\n\n    .dataframe thead th {\n        text-align: right;\n    }\n</style>\n<table border=\"1\" class=\"dataframe\">\n  <thead>\n    <tr style=\"text-align: right;\">\n      <th></th>\n      <th>MONTH</th>\n      <th>STORECODE</th>\n      <th>DAY</th>\n      <th>BILL_ID</th>\n      <th>BILL_AMT</th>\n      <th>QTY</th>\n      <th>VALUE</th>\n      <th>PRICE</th>\n      <th>GRP</th>\n      <th>SGRP</th>\n      <th>SSGRP</th>\n      <th>CMP</th>\n      <th>MBRD</th>\n      <th>BRD</th>\n    </tr>\n  </thead>\n  <tbody>\n    <tr>\n      <th>0</th>\n      <td>M1</td>\n      <td>N1</td>\n      <td>4</td>\n      <td>T375</td>\n      <td>225.0</td>\n      <td>1.0</td>\n      <td>225.0</td>\n      <td>225.0</td>\n      <td>BUTTER MARGR  (4/94)</td>\n      <td>BUTTER</td>\n      <td>SALTED</td>\n      <td>G C M M F</td>\n      <td>AMUL</td>\n      <td>AMUL</td>\n    </tr>\n    <tr>\n      <th>1</th>\n      <td>M1</td>\n      <td>N1</td>\n      <td>4</td>\n      <td>T379</td>\n      <td>95.0</td>\n      <td>1.0</td>\n      <td>95.0</td>\n      <td>95.0</td>\n      <td>CONFECTIONERY - ECLAIRS</td>\n      <td>CONFECTIONERY - ECLAIRS</td>\n      <td>CONFECTIONERY - ECLAIRS</td>\n      <td>PARLE PRODS</td>\n      <td>MELODY</td>\n      <td>MELODY CHOCOLATY</td>\n    </tr>\n    <tr>\n      <th>2</th>\n      <td>M1</td>\n      <td>N1</td>\n      <td>4</td>\n      <td>T381</td>\n      <td>10.0</td>\n      <td>1.0</td>\n      <td>10.0</td>\n      <td>10.0</td>\n      <td>CHOCOLATE</td>\n      <td>CHOCOLATE PANNED</td>\n      <td>CHOCOLATE PANNED</td>\n      <td>MONDELEZ INTERNATIONAL</td>\n      <td>CADBURY SHOTS</td>\n      <td>CADBURY SHOTS</td>\n    </tr>\n    <tr>\n      <th>3</th>\n      <td>M1</td>\n      <td>N1</td>\n      <td>4</td>\n      <td>T382</td>\n      <td>108.0</td>\n      <td>1.0</td>\n      <td>108.0</td>\n      <td>108.0</td>\n      <td>PACKAGED TEA</td>\n      <td>MAIN PACKS</td>\n      <td>MAIN PACKS</td>\n      <td>GUJ TEA PROCESSORS</td>\n      <td>WAGH BAKRI</td>\n      <td>WAGH BAKRI INSTANT</td>\n    </tr>\n    <tr>\n      <th>4</th>\n      <td>M1</td>\n      <td>N1</td>\n      <td>4</td>\n      <td>T384</td>\n      <td>19.0</td>\n      <td>1.0</td>\n      <td>19.0</td>\n      <td>19.0</td>\n      <td>ALL IODISED SALT</td>\n      <td>POWDERED SALT</td>\n      <td>POWDERED SALT</td>\n      <td>TATA CHEM</td>\n      <td>TATA</td>\n      <td>TATA SALT</td>\n    </tr>\n    <tr>\n      <th>...</th>\n      <td>...</td>\n      <td>...</td>\n      <td>...</td>\n      <td>...</td>\n      <td>...</td>\n      <td>...</td>\n      <td>...</td>\n      <td>...</td>\n      <td>...</td>\n      <td>...</td>\n      <td>...</td>\n      <td>...</td>\n      <td>...</td>\n      <td>...</td>\n    </tr>\n    <tr>\n      <th>26980</th>\n      <td>M3</td>\n      <td>N10</td>\n      <td>31</td>\n      <td>T5999</td>\n      <td>10.0</td>\n      <td>1.0</td>\n      <td>10.0</td>\n      <td>10.0</td>\n      <td>BISCUITS - CORE &amp; NON CORE</td>\n      <td>NON-SALT CRACKER</td>\n      <td>NON-SALT CRACKER</td>\n      <td>PARLE PRODS</td>\n      <td>PARLE KRACK JACK</td>\n      <td>PARLE KRACK JACK</td>\n    </tr>\n    <tr>\n      <th>26981</th>\n      <td>M3</td>\n      <td>N10</td>\n      <td>31</td>\n      <td>T6007</td>\n      <td>88.0</td>\n      <td>1.0</td>\n      <td>10.0</td>\n      <td>10.0</td>\n      <td>BISCUITS - CORE &amp; NON CORE</td>\n      <td>MARIE</td>\n      <td>MARIE</td>\n      <td>PARLE PRODS</td>\n      <td>PARLE MARIE</td>\n      <td>PARLE MARIE</td>\n    </tr>\n    <tr>\n      <th>26982</th>\n      <td>M3</td>\n      <td>N10</td>\n      <td>31</td>\n      <td>T6007</td>\n      <td>88.0</td>\n      <td>2.0</td>\n      <td>20.0</td>\n      <td>10.0</td>\n      <td>BISCUITS - CORE &amp; NON CORE</td>\n      <td>GLUCOSE</td>\n      <td>GLUCOSE</td>\n      <td>PARLE PRODS</td>\n      <td>PARLE-G</td>\n      <td>PARLE-G</td>\n    </tr>\n    <tr>\n      <th>26983</th>\n      <td>M3</td>\n      <td>N10</td>\n      <td>31</td>\n      <td>T6007</td>\n      <td>88.0</td>\n      <td>1.0</td>\n      <td>58.0</td>\n      <td>58.0</td>\n      <td>CLEANERS - GLASS</td>\n      <td>LIQUIDS</td>\n      <td>LIQUIDS</td>\n      <td>RECKITT BENCKISER</td>\n      <td>COLIN</td>\n      <td>COLIN</td>\n    </tr>\n    <tr>\n      <th>26984</th>\n      <td>M3</td>\n      <td>N10</td>\n      <td>31</td>\n      <td>T6013</td>\n      <td>15.0</td>\n      <td>1.0</td>\n      <td>15.0</td>\n      <td>15.0</td>\n      <td>BISCUITS - CORE &amp; NON CORE</td>\n      <td>SWEET/COOKIES</td>\n      <td>SWEET/COOKIES</td>\n      <td>SAJ INDS</td>\n      <td>BISK FARM</td>\n      <td>BISK FARM JUST GINGER</td>\n    </tr>\n  </tbody>\n</table>\n<p>26985 rows × 14 columns</p>\n</div>"
     },
     "metadata": {},
     "execution_count": 172
    }
   ],
   "source": [
    "Clean"
   ]
  },
  {
   "cell_type": "code",
   "execution_count": 175,
   "metadata": {},
   "outputs": [
    {
     "output_type": "error",
     "ename": "NameError",
     "evalue": "name 'nan' is not defined",
     "traceback": [
      "\u001b[1;31m---------------------------------------------------------------------------\u001b[0m",
      "\u001b[1;31mNameError\u001b[0m                                 Traceback (most recent call last)",
      "\u001b[1;32m<ipython-input-175-c2909aff0156>\u001b[0m in \u001b[0;36m<module>\u001b[1;34m\u001b[0m\n\u001b[1;32m----> 1\u001b[1;33m \u001b[0mEraser\u001b[0m\u001b[1;33m(\u001b[0m\u001b[0mclean2\u001b[0m\u001b[1;33m,\u001b[0m \u001b[1;36m100\u001b[0m\u001b[1;33m)\u001b[0m\u001b[1;33m\u001b[0m\u001b[1;33m\u001b[0m\u001b[0m\n\u001b[0m",
      "\u001b[1;32m<ipython-input-174-1468a319b66f>\u001b[0m in \u001b[0;36mEraser\u001b[1;34m(df, x)\u001b[0m\n\u001b[0;32m     16\u001b[0m         \u001b[0marr\u001b[0m \u001b[1;33m=\u001b[0m \u001b[0mrow_wise_irregularity\u001b[0m\u001b[1;33m(\u001b[0m\u001b[0mdf\u001b[0m\u001b[1;33m)\u001b[0m\u001b[1;33m\u001b[0m\u001b[1;33m\u001b[0m\u001b[0m\n\u001b[0;32m     17\u001b[0m         \u001b[1;32mfor\u001b[0m \u001b[0mfield\u001b[0m \u001b[1;32min\u001b[0m \u001b[0marr\u001b[0m\u001b[1;33m:\u001b[0m\u001b[1;33m\u001b[0m\u001b[1;33m\u001b[0m\u001b[0m\n\u001b[1;32m---> 18\u001b[1;33m             \u001b[0mdf\u001b[0m\u001b[1;33m.\u001b[0m\u001b[0mloc\u001b[0m\u001b[1;33m[\u001b[0m\u001b[1;33m[\u001b[0m\u001b[0mexample\u001b[0m\u001b[1;33m]\u001b[0m\u001b[1;33m,\u001b[0m\u001b[0mfield\u001b[0m\u001b[1;33m]\u001b[0m \u001b[1;33m=\u001b[0m \u001b[0mnan\u001b[0m\u001b[1;33m\u001b[0m\u001b[1;33m\u001b[0m\u001b[0m\n\u001b[0m\u001b[0;32m     19\u001b[0m \u001b[1;33m\u001b[0m\u001b[0m\n\u001b[0;32m     20\u001b[0m \u001b[1;33m\u001b[0m\u001b[0m\n",
      "\u001b[1;31mNameError\u001b[0m: name 'nan' is not defined"
     ]
    }
   ],
   "source": []
  },
  {
   "cell_type": "code",
   "execution_count": 182,
   "metadata": {},
   "outputs": [
    {
     "output_type": "execute_result",
     "data": {
      "text/plain": [
       "       MONTH  STORECODE    DAY  BILL_ID  BILL_AMT    QTY  VALUE  PRICE    GRP  \\\n",
       "0      False      False  False    False     False  False  False  False  False   \n",
       "1      False      False  False    False     False  False  False  False  False   \n",
       "2      False      False  False    False     False  False  False  False  False   \n",
       "3      False      False  False    False     False  False  False  False   True   \n",
       "4      False      False  False    False     False  False  False  False  False   \n",
       "...      ...        ...    ...      ...       ...    ...    ...    ...    ...   \n",
       "26980  False      False  False    False     False  False  False  False  False   \n",
       "26981  False      False  False     True     False  False   True  False  False   \n",
       "26982  False      False  False    False     False  False  False  False  False   \n",
       "26983  False       True   True    False     False  False  False  False   True   \n",
       "26984  False      False  False    False     False  False  False  False  False   \n",
       "\n",
       "        SGRP  SSGRP    CMP   MBRD    BRD  \n",
       "0      False  False  False  False  False  \n",
       "1      False  False  False  False  False  \n",
       "2      False  False  False  False  False  \n",
       "3       True   True   True   True   True  \n",
       "4      False  False  False  False  False  \n",
       "...      ...    ...    ...    ...    ...  \n",
       "26980  False  False  False  False  False  \n",
       "26981  False  False  False  False   True  \n",
       "26982  False  False  False  False  False  \n",
       "26983   True  False  False   True   True  \n",
       "26984  False  False  False  False  False  \n",
       "\n",
       "[26985 rows x 14 columns]"
      ],
      "text/html": "<div>\n<style scoped>\n    .dataframe tbody tr th:only-of-type {\n        vertical-align: middle;\n    }\n\n    .dataframe tbody tr th {\n        vertical-align: top;\n    }\n\n    .dataframe thead th {\n        text-align: right;\n    }\n</style>\n<table border=\"1\" class=\"dataframe\">\n  <thead>\n    <tr style=\"text-align: right;\">\n      <th></th>\n      <th>MONTH</th>\n      <th>STORECODE</th>\n      <th>DAY</th>\n      <th>BILL_ID</th>\n      <th>BILL_AMT</th>\n      <th>QTY</th>\n      <th>VALUE</th>\n      <th>PRICE</th>\n      <th>GRP</th>\n      <th>SGRP</th>\n      <th>SSGRP</th>\n      <th>CMP</th>\n      <th>MBRD</th>\n      <th>BRD</th>\n    </tr>\n  </thead>\n  <tbody>\n    <tr>\n      <th>0</th>\n      <td>False</td>\n      <td>False</td>\n      <td>False</td>\n      <td>False</td>\n      <td>False</td>\n      <td>False</td>\n      <td>False</td>\n      <td>False</td>\n      <td>False</td>\n      <td>False</td>\n      <td>False</td>\n      <td>False</td>\n      <td>False</td>\n      <td>False</td>\n    </tr>\n    <tr>\n      <th>1</th>\n      <td>False</td>\n      <td>False</td>\n      <td>False</td>\n      <td>False</td>\n      <td>False</td>\n      <td>False</td>\n      <td>False</td>\n      <td>False</td>\n      <td>False</td>\n      <td>False</td>\n      <td>False</td>\n      <td>False</td>\n      <td>False</td>\n      <td>False</td>\n    </tr>\n    <tr>\n      <th>2</th>\n      <td>False</td>\n      <td>False</td>\n      <td>False</td>\n      <td>False</td>\n      <td>False</td>\n      <td>False</td>\n      <td>False</td>\n      <td>False</td>\n      <td>False</td>\n      <td>False</td>\n      <td>False</td>\n      <td>False</td>\n      <td>False</td>\n      <td>False</td>\n    </tr>\n    <tr>\n      <th>3</th>\n      <td>False</td>\n      <td>False</td>\n      <td>False</td>\n      <td>False</td>\n      <td>False</td>\n      <td>False</td>\n      <td>False</td>\n      <td>False</td>\n      <td>True</td>\n      <td>True</td>\n      <td>True</td>\n      <td>True</td>\n      <td>True</td>\n      <td>True</td>\n    </tr>\n    <tr>\n      <th>4</th>\n      <td>False</td>\n      <td>False</td>\n      <td>False</td>\n      <td>False</td>\n      <td>False</td>\n      <td>False</td>\n      <td>False</td>\n      <td>False</td>\n      <td>False</td>\n      <td>False</td>\n      <td>False</td>\n      <td>False</td>\n      <td>False</td>\n      <td>False</td>\n    </tr>\n    <tr>\n      <th>...</th>\n      <td>...</td>\n      <td>...</td>\n      <td>...</td>\n      <td>...</td>\n      <td>...</td>\n      <td>...</td>\n      <td>...</td>\n      <td>...</td>\n      <td>...</td>\n      <td>...</td>\n      <td>...</td>\n      <td>...</td>\n      <td>...</td>\n      <td>...</td>\n    </tr>\n    <tr>\n      <th>26980</th>\n      <td>False</td>\n      <td>False</td>\n      <td>False</td>\n      <td>False</td>\n      <td>False</td>\n      <td>False</td>\n      <td>False</td>\n      <td>False</td>\n      <td>False</td>\n      <td>False</td>\n      <td>False</td>\n      <td>False</td>\n      <td>False</td>\n      <td>False</td>\n    </tr>\n    <tr>\n      <th>26981</th>\n      <td>False</td>\n      <td>False</td>\n      <td>False</td>\n      <td>True</td>\n      <td>False</td>\n      <td>False</td>\n      <td>True</td>\n      <td>False</td>\n      <td>False</td>\n      <td>False</td>\n      <td>False</td>\n      <td>False</td>\n      <td>False</td>\n      <td>True</td>\n    </tr>\n    <tr>\n      <th>26982</th>\n      <td>False</td>\n      <td>False</td>\n      <td>False</td>\n      <td>False</td>\n      <td>False</td>\n      <td>False</td>\n      <td>False</td>\n      <td>False</td>\n      <td>False</td>\n      <td>False</td>\n      <td>False</td>\n      <td>False</td>\n      <td>False</td>\n      <td>False</td>\n    </tr>\n    <tr>\n      <th>26983</th>\n      <td>False</td>\n      <td>True</td>\n      <td>True</td>\n      <td>False</td>\n      <td>False</td>\n      <td>False</td>\n      <td>False</td>\n      <td>False</td>\n      <td>True</td>\n      <td>True</td>\n      <td>False</td>\n      <td>False</td>\n      <td>True</td>\n      <td>True</td>\n    </tr>\n    <tr>\n      <th>26984</th>\n      <td>False</td>\n      <td>False</td>\n      <td>False</td>\n      <td>False</td>\n      <td>False</td>\n      <td>False</td>\n      <td>False</td>\n      <td>False</td>\n      <td>False</td>\n      <td>False</td>\n      <td>False</td>\n      <td>False</td>\n      <td>False</td>\n      <td>False</td>\n    </tr>\n  </tbody>\n</table>\n<p>26985 rows × 14 columns</p>\n</div>"
     },
     "metadata": {},
     "execution_count": 182
    }
   ],
   "source": [
    "clean2.isnull()"
   ]
  }
 ]
}